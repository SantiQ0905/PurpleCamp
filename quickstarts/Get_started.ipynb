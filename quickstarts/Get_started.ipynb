{
  "cells": [
    {
      "cell_type": "markdown",
      "metadata": {
        "id": "NtVOlmDSHmh4"
      },
      "source": [
        "##### Copyright 2025 Google LLC."
      ]
    },
    {
      "cell_type": "markdown",
      "source": [
        "#Datos"
      ],
      "metadata": {
        "id": "Dl-1XXrk4VdM"
      }
    },
    {
      "cell_type": "code",
      "source": [
        "salaries = [7000]*50 + [25000]*35 + [60000]*16 + [100000]*1\n",
        "print(salaries)\n",
        "\n",
        "\n"
      ],
      "metadata": {
        "colab": {
          "base_uri": "https://localhost:8080/"
        },
        "id": "PUXlKB16wqqB",
        "outputId": "e82ee959-78cc-4398-b0c4-b85830b08aec"
      },
      "execution_count": 5,
      "outputs": [
        {
          "output_type": "stream",
          "name": "stdout",
          "text": [
            "[7000, 7000, 7000, 7000, 7000, 7000, 7000, 7000, 7000, 7000, 7000, 7000, 7000, 7000, 7000, 7000, 7000, 7000, 7000, 7000, 7000, 7000, 7000, 7000, 7000, 7000, 7000, 7000, 7000, 7000, 7000, 7000, 7000, 7000, 7000, 7000, 7000, 7000, 7000, 7000, 7000, 7000, 7000, 7000, 7000, 7000, 7000, 7000, 7000, 7000, 25000, 25000, 25000, 25000, 25000, 25000, 25000, 25000, 25000, 25000, 25000, 25000, 25000, 25000, 25000, 25000, 25000, 25000, 25000, 25000, 25000, 25000, 25000, 25000, 25000, 25000, 25000, 25000, 25000, 25000, 25000, 25000, 25000, 25000, 25000, 60000, 60000, 60000, 60000, 60000, 60000, 60000, 60000, 60000, 60000, 60000, 60000, 60000, 60000, 60000, 60000, 100000]\n"
          ]
        }
      ]
    },
    {
      "cell_type": "markdown",
      "source": [
        "#Preguntas\n",
        "a) ¿Cuál será el salario promedio, la moda, la mediana, el rango medio de la empresa?\n",
        "\n"
      ],
      "metadata": {
        "id": "fW5D6sXoyDoh"
      }
    },
    {
      "cell_type": "code",
      "source": [
        "import statistics as st\n",
        "st.mean(salaries)"
      ],
      "metadata": {
        "colab": {
          "base_uri": "https://localhost:8080/"
        },
        "id": "FTEosCXZx_Sm",
        "outputId": "e2ee9f6f-e412-4527-f31e-d16c40d583cd"
      },
      "execution_count": 9,
      "outputs": [
        {
          "output_type": "execute_result",
          "data": {
            "text/plain": [
              "22401.960784313724"
            ]
          },
          "metadata": {},
          "execution_count": 9
        }
      ]
    },
    {
      "cell_type": "code",
      "source": [
        "st.mode(salaries)"
      ],
      "metadata": {
        "colab": {
          "base_uri": "https://localhost:8080/"
        },
        "id": "rsDj_LLqzHwF",
        "outputId": "9a624571-9d1d-42b9-df1d-711bff778073"
      },
      "execution_count": 8,
      "outputs": [
        {
          "output_type": "execute_result",
          "data": {
            "text/plain": [
              "7000"
            ]
          },
          "metadata": {},
          "execution_count": 8
        }
      ]
    },
    {
      "cell_type": "code",
      "source": [
        "st.median(salaries)"
      ],
      "metadata": {
        "colab": {
          "base_uri": "https://localhost:8080/"
        },
        "id": "CZcjpoITzKJ8",
        "outputId": "4cb89120-9e3b-4337-b7ec-f4aa6292f4c9"
      },
      "execution_count": 12,
      "outputs": [
        {
          "output_type": "execute_result",
          "data": {
            "text/plain": [
              "25000.0"
            ]
          },
          "metadata": {},
          "execution_count": 12
        }
      ]
    },
    {
      "cell_type": "code",
      "source": [
        "mid_range = (max(salaries) - min(salaries))/2\n",
        "mid_range"
      ],
      "metadata": {
        "colab": {
          "base_uri": "https://localhost:8080/"
        },
        "id": "0SGQ1Okm0IwF",
        "outputId": "d17dcca1-b1a5-4150-d9ba-661b2208f7a9"
      },
      "execution_count": 13,
      "outputs": [
        {
          "output_type": "execute_result",
          "data": {
            "text/plain": [
              "46500.0"
            ]
          },
          "metadata": {},
          "execution_count": 13
        }
      ]
    },
    {
      "cell_type": "markdown",
      "source": [
        "b) ¿Cuál de las medidas de centralización que conoce mejor representa los salarios de los que trabajan en la empresa?\n",
        "\n",
        "La mediana, por que no le afectan los valores atipicos. En cambio a otras medidas,como el promedio, si le afecta."
      ],
      "metadata": {
        "id": "-_C-Czyk00q8"
      }
    },
    {
      "cell_type": "markdown",
      "source": [
        "c) ¿Cuál es su desviación estándar y su varianza?\n",
        "\n"
      ],
      "metadata": {
        "id": "BeP6ZOcG02xL"
      }
    },
    {
      "cell_type": "code",
      "source": [
        "st.stdev(salaries)"
      ],
      "metadata": {
        "colab": {
          "base_uri": "https://localhost:8080/"
        },
        "id": "LXapIYPL1LRd",
        "outputId": "7498b2e1-335a-4c8c-b130-65fc07b6fa73"
      },
      "execution_count": 14,
      "outputs": [
        {
          "output_type": "execute_result",
          "data": {
            "text/plain": [
              "20083.12419185266"
            ]
          },
          "metadata": {},
          "execution_count": 14
        }
      ]
    },
    {
      "cell_type": "code",
      "source": [
        "st.variance(salaries)"
      ],
      "metadata": {
        "colab": {
          "base_uri": "https://localhost:8080/"
        },
        "id": "P1IoAeOk043u",
        "outputId": "c405e20b-5777-42ba-c480-daa6f4186a06"
      },
      "execution_count": 15,
      "outputs": [
        {
          "output_type": "execute_result",
          "data": {
            "text/plain": [
              "403331877.3053776"
            ]
          },
          "metadata": {},
          "execution_count": 15
        }
      ]
    },
    {
      "cell_type": "markdown",
      "source": [
        "d) Calcula el porcentaje de datos que están una desviación estándar alrededor de la media\n",
        "\n"
      ],
      "metadata": {
        "id": "TxlHw-X01SNn"
      }
    },
    {
      "cell_type": "code",
      "source": [
        "mean = st.mean(salaries)\n",
        "st_dev = st.stdev(salaries)\n",
        "\n",
        "range = [mean - st_dev, mean + st_dev]\n",
        "print(range)\n",
        "\n",
        "\n"
      ],
      "metadata": {
        "colab": {
          "base_uri": "https://localhost:8080/"
        },
        "id": "WB094dGJ2Yf9",
        "outputId": "51981f0a-b14d-46be-c069-842fc183822d"
      },
      "execution_count": 22,
      "outputs": [
        {
          "output_type": "stream",
          "name": "stdout",
          "text": [
            "[2318.8365924610625, 42485.084976166385]\n"
          ]
        }
      ]
    },
    {
      "cell_type": "code",
      "source": [
        "counter = 0\n",
        "for salary in salaries:\n",
        "  if salary >= range[0] and salary <= range[1]:\n",
        "    counter += 1\n",
        "counter"
      ],
      "metadata": {
        "colab": {
          "base_uri": "https://localhost:8080/"
        },
        "id": "TG0WvXX73SYH",
        "outputId": "4321aac6-2ad0-4351-9e19-109754619dd4"
      },
      "execution_count": 27,
      "outputs": [
        {
          "output_type": "execute_result",
          "data": {
            "text/plain": [
              "85"
            ]
          },
          "metadata": {},
          "execution_count": 27
        }
      ]
    },
    {
      "cell_type": "code",
      "source": [
        "percentage = counter / len(salaries)*100\n",
        "percentage"
      ],
      "metadata": {
        "colab": {
          "base_uri": "https://localhost:8080/"
        },
        "id": "AN9T9VbZ4MnF",
        "outputId": "01ba328e-0086-4cb1-b73e-e006bbe1e675"
      },
      "execution_count": 28,
      "outputs": [
        {
          "output_type": "execute_result",
          "data": {
            "text/plain": [
              "83.33333333333334"
            ]
          },
          "metadata": {},
          "execution_count": 28
        }
      ]
    }
  ],
  "metadata": {
    "colab": {
      "collapsed_sections": [
        "Mfk6YY3G5kqp"
      ],
      "name": "Get_started.ipynb",
      "provenance": []
    },
    "kernelspec": {
      "display_name": "Python 3",
      "name": "python3"
    }
  },
  "nbformat": 4,
  "nbformat_minor": 0
}